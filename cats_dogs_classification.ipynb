{
  "nbformat": 4,
  "nbformat_minor": 0,
  "metadata": {
    "colab": {
      "provenance": [],
      "gpuType": "T4",
      "authorship_tag": "ABX9TyPf5NLaiBeSweza218GzdzM",
      "include_colab_link": true
    },
    "kernelspec": {
      "name": "python3",
      "display_name": "Python 3"
    },
    "language_info": {
      "name": "python"
    },
    "accelerator": "GPU"
  },
  "cells": [
    {
      "cell_type": "markdown",
      "metadata": {
        "id": "view-in-github",
        "colab_type": "text"
      },
      "source": [
        "<a href=\"https://colab.research.google.com/github/riz-coder/DL/blob/main/cats_dogs_classification.ipynb\" target=\"_parent\"><img src=\"https://colab.research.google.com/assets/colab-badge.svg\" alt=\"Open In Colab\"/></a>"
      ]
    },
    {
      "cell_type": "code",
      "source": [
        "!mkdir -p ~/.kaggle\n",
        "!cp kaggle.json ~/.kaggle/"
      ],
      "metadata": {
        "id": "VowxfvSdsJ8B",
        "colab": {
          "base_uri": "https://localhost:8080/"
        },
        "outputId": "a125db44-859f-4b7b-d6e2-35b0462ffe85"
      },
      "execution_count": null,
      "outputs": [
        {
          "output_type": "stream",
          "name": "stdout",
          "text": [
            "cp: cannot stat 'kaggle.json': No such file or directory\n"
          ]
        }
      ]
    },
    {
      "cell_type": "code",
      "execution_count": null,
      "metadata": {
        "colab": {
          "base_uri": "https://localhost:8080/"
        },
        "id": "eFSUKy2fp3j5",
        "outputId": "5b6c71c3-b5ac-46a7-ef3b-e170f9e68791"
      },
      "outputs": [
        {
          "output_type": "stream",
          "name": "stdout",
          "text": [
            "Dataset URL: https://www.kaggle.com/datasets/salader/dogs-vs-cats\n",
            "License(s): unknown\n",
            "dogs-vs-cats.zip: Skipping, found more recently modified local copy (use --force to force download)\n"
          ]
        }
      ],
      "source": [
        "!kaggle datasets download -d salader/dogs-vs-cats"
      ]
    },
    {
      "cell_type": "code",
      "source": [
        "import zipfile\n",
        "\n",
        "zip_ref = zipfile.ZipFile(\"/content/dogs-vs-cats.zip\", 'r')\n",
        "zip_ref.extractall('/content')\n",
        "zip_ref.close()"
      ],
      "metadata": {
        "id": "6Ngz_-OXsLkZ"
      },
      "execution_count": null,
      "outputs": []
    },
    {
      "cell_type": "code",
      "source": [
        "import tensorflow as tf\n",
        "from tensorflow import keras\n",
        "from keras import Sequential\n",
        "from keras.layers import Dense, Conv2D, MaxPooling2D, Flatten, BatchNormalization, Dropout"
      ],
      "metadata": {
        "id": "k3E68LU5uAZK"
      },
      "execution_count": null,
      "outputs": []
    },
    {
      "cell_type": "code",
      "source": [
        "#Generators, divide data into batches, load accordingly\n",
        "\n",
        "train_ds = keras.utils.image_dataset_from_directory(\n",
        "    directory = ('/content/train'),\n",
        "    labels = 'inferred',\n",
        "    label_mode = 'int',\n",
        "    batch_size = 32,\n",
        "    image_size = (256,256)\n",
        ")\n",
        "\n",
        "validation_ds = keras.utils.image_dataset_from_directory(\n",
        "    directory = ('/content/test'),\n",
        "    labels = 'inferred',\n",
        "    label_mode = 'int',\n",
        "    batch_size = 32,\n",
        "    image_size = (256,256)\n",
        ")\n"
      ],
      "metadata": {
        "colab": {
          "base_uri": "https://localhost:8080/"
        },
        "id": "NSW_0A0sw2_y",
        "outputId": "373a9e3a-76a6-42d0-ac59-93d39e44c286"
      },
      "execution_count": null,
      "outputs": [
        {
          "output_type": "stream",
          "name": "stdout",
          "text": [
            "Found 20000 files belonging to 2 classes.\n",
            "Found 5000 files belonging to 2 classes.\n"
          ]
        }
      ]
    },
    {
      "cell_type": "markdown",
      "source": [
        "- Store in Numpy arrays\n",
        "- Value ranges from 0 - 255 in nump arrays\n",
        "- We want 0 - 1 so just normalize it"
      ],
      "metadata": {
        "id": "18M22MUl1l7P"
      }
    },
    {
      "cell_type": "code",
      "source": [
        "# Normalize, Value between 0 to 1\n",
        "\n",
        "def process(image, label):\n",
        "    image = tf.cast(image/255., tf.float32)\n",
        "    return image, label\n",
        "\n",
        "train_ds = train_ds.map(process)\n",
        "validation_ds = validation_ds.map(process)"
      ],
      "metadata": {
        "id": "OZ6JIjev1fJk"
      },
      "execution_count": null,
      "outputs": []
    },
    {
      "cell_type": "code",
      "source": [
        "# Create CNN Model\n",
        "\n",
        "model = Sequential()\n",
        "model.add(Conv2D(32, kernel_size=(3,3), padding='valid', activation='relu', input_shape=(256,256,3)))\n",
        "model.add(MaxPooling2D(pool_size=(2,2), strides=2, padding='valid'))\n",
        "\n",
        "model.add(Conv2D(64, kernel_size=(3,3), padding='valid', activation='relu'))\n",
        "model.add(MaxPooling2D(pool_size=(2,2), strides=2, padding='valid'))\n",
        "\n",
        "model.add(Conv2D(128, kernel_size=(3,3), padding='valid', activation='relu'))\n",
        "model.add(MaxPooling2D(pool_size=(2,2), strides=2, padding='valid'))\n",
        "\n",
        "model.add(Flatten())\n",
        "\n",
        "model.add(Dense(128, activation='relu'))\n",
        "model.add(Dense(64, activation='relu'))\n",
        "model.add(Dense(1, activation='sigmoid'))"
      ],
      "metadata": {
        "id": "5DUCGe1x2leh"
      },
      "execution_count": null,
      "outputs": []
    },
    {
      "cell_type": "code",
      "source": [
        "#Summary\n",
        "\n",
        "model.summary()"
      ],
      "metadata": {
        "colab": {
          "base_uri": "https://localhost:8080/"
        },
        "id": "MkeFDEweAXgK",
        "outputId": "09c4b953-28d4-4f57-c671-78f569b96965"
      },
      "execution_count": null,
      "outputs": [
        {
          "output_type": "stream",
          "name": "stdout",
          "text": [
            "Model: \"sequential\"\n",
            "_________________________________________________________________\n",
            " Layer (type)                Output Shape              Param #   \n",
            "=================================================================\n",
            " conv2d (Conv2D)             (None, 254, 254, 32)      896       \n",
            "                                                                 \n",
            " max_pooling2d (MaxPooling2  (None, 127, 127, 32)      0         \n",
            " D)                                                              \n",
            "                                                                 \n",
            " conv2d_1 (Conv2D)           (None, 125, 125, 64)      18496     \n",
            "                                                                 \n",
            " max_pooling2d_1 (MaxPoolin  (None, 62, 62, 64)        0         \n",
            " g2D)                                                            \n",
            "                                                                 \n",
            " conv2d_2 (Conv2D)           (None, 60, 60, 128)       73856     \n",
            "                                                                 \n",
            " max_pooling2d_2 (MaxPoolin  (None, 30, 30, 128)       0         \n",
            " g2D)                                                            \n",
            "                                                                 \n",
            " flatten (Flatten)           (None, 115200)            0         \n",
            "                                                                 \n",
            " dense (Dense)               (None, 128)               14745728  \n",
            "                                                                 \n",
            " dense_1 (Dense)             (None, 64)                8256      \n",
            "                                                                 \n",
            " dense_2 (Dense)             (None, 1)                 65        \n",
            "                                                                 \n",
            "=================================================================\n",
            "Total params: 14847297 (56.64 MB)\n",
            "Trainable params: 14847297 (56.64 MB)\n",
            "Non-trainable params: 0 (0.00 Byte)\n",
            "_________________________________________________________________\n"
          ]
        }
      ]
    },
    {
      "cell_type": "code",
      "source": [
        "model.compile(optimizer='adam', loss='binary_crossentropy', metrics=['accuracy'])"
      ],
      "metadata": {
        "id": "Ew1UgdVlAa5P"
      },
      "execution_count": null,
      "outputs": []
    },
    {
      "cell_type": "code",
      "source": [
        "#history = model.fit(train_ds, epochs=10, validation_data=validation_ds)"
      ],
      "metadata": {
        "id": "8vSMITWUArmX"
      },
      "execution_count": null,
      "outputs": []
    },
    {
      "cell_type": "code",
      "source": [
        "# Plot the accuracy\n",
        "\n",
        "import matplotlib.pyplot as plt\n",
        "plt.plot(history.history['accuracy'],color='red', label='Train')\n",
        "plt.plot(history.history['val_accuracy'],color='blue', label='Validation')\n",
        "plt.legend()\n",
        "plt.show()"
      ],
      "metadata": {
        "colab": {
          "base_uri": "https://localhost:8080/",
          "height": 211
        },
        "id": "ao6Zo2IKA6XR",
        "outputId": "265fe307-9644-4aa2-db18-49d90f9313dc"
      },
      "execution_count": null,
      "outputs": [
        {
          "output_type": "error",
          "ename": "NameError",
          "evalue": "name 'history' is not defined",
          "traceback": [
            "\u001b[0;31m---------------------------------------------------------------------------\u001b[0m",
            "\u001b[0;31mNameError\u001b[0m                                 Traceback (most recent call last)",
            "\u001b[0;32m<ipython-input-17-b52d532d136e>\u001b[0m in \u001b[0;36m<cell line: 4>\u001b[0;34m()\u001b[0m\n\u001b[1;32m      2\u001b[0m \u001b[0;34m\u001b[0m\u001b[0m\n\u001b[1;32m      3\u001b[0m \u001b[0;32mimport\u001b[0m \u001b[0mmatplotlib\u001b[0m\u001b[0;34m.\u001b[0m\u001b[0mpyplot\u001b[0m \u001b[0;32mas\u001b[0m \u001b[0mplt\u001b[0m\u001b[0;34m\u001b[0m\u001b[0;34m\u001b[0m\u001b[0m\n\u001b[0;32m----> 4\u001b[0;31m \u001b[0mplt\u001b[0m\u001b[0;34m.\u001b[0m\u001b[0mplot\u001b[0m\u001b[0;34m(\u001b[0m\u001b[0mhistory\u001b[0m\u001b[0;34m.\u001b[0m\u001b[0mhistory\u001b[0m\u001b[0;34m[\u001b[0m\u001b[0;34m'accuracy'\u001b[0m\u001b[0;34m]\u001b[0m\u001b[0;34m,\u001b[0m\u001b[0mcolor\u001b[0m\u001b[0;34m=\u001b[0m\u001b[0;34m'red'\u001b[0m\u001b[0;34m,\u001b[0m \u001b[0mlabel\u001b[0m\u001b[0;34m=\u001b[0m\u001b[0;34m'Train'\u001b[0m\u001b[0;34m)\u001b[0m\u001b[0;34m\u001b[0m\u001b[0;34m\u001b[0m\u001b[0m\n\u001b[0m\u001b[1;32m      5\u001b[0m \u001b[0mplt\u001b[0m\u001b[0;34m.\u001b[0m\u001b[0mplot\u001b[0m\u001b[0;34m(\u001b[0m\u001b[0mhistory\u001b[0m\u001b[0;34m.\u001b[0m\u001b[0mhistory\u001b[0m\u001b[0;34m[\u001b[0m\u001b[0;34m'val_accuracy'\u001b[0m\u001b[0;34m]\u001b[0m\u001b[0;34m,\u001b[0m\u001b[0mcolor\u001b[0m\u001b[0;34m=\u001b[0m\u001b[0;34m'blue'\u001b[0m\u001b[0;34m,\u001b[0m \u001b[0mlabel\u001b[0m\u001b[0;34m=\u001b[0m\u001b[0;34m'Validation'\u001b[0m\u001b[0;34m)\u001b[0m\u001b[0;34m\u001b[0m\u001b[0;34m\u001b[0m\u001b[0m\n\u001b[1;32m      6\u001b[0m \u001b[0mplt\u001b[0m\u001b[0;34m.\u001b[0m\u001b[0mlegend\u001b[0m\u001b[0;34m(\u001b[0m\u001b[0;34m)\u001b[0m\u001b[0;34m\u001b[0m\u001b[0;34m\u001b[0m\u001b[0m\n",
            "\u001b[0;31mNameError\u001b[0m: name 'history' is not defined"
          ]
        }
      ]
    },
    {
      "cell_type": "markdown",
      "source": [
        "- Seems to be Overfitting\n",
        "- We reduce it by following methods\n",
        "\n",
        "1- Add more data\n",
        "\n",
        "2- Data Augmentation\n",
        "\n",
        "3- L1/L2 Regularization\n",
        "\n",
        "4- Dropout\n",
        "\n",
        "5- Batch Norm\n",
        "\n",
        "6- Reduce Complexity\n",
        "\n"
      ],
      "metadata": {
        "id": "WcJHM8A7Fn32"
      }
    },
    {
      "cell_type": "code",
      "source": [
        "# Again create model with Batch Norm to avoid the OFitting issue\n",
        "\n",
        "# Create CNN Model\n",
        "\n",
        "model = Sequential()\n",
        "model.add(Conv2D(32, kernel_size=(3,3), padding='valid', activation='relu', input_shape=(256,256,3)))\n",
        "model.add(BatchNormalization())\n",
        "model.add(MaxPooling2D(pool_size=(2,2), strides=2, padding='valid'))\n",
        "\n",
        "model.add(Conv2D(64, kernel_size=(3,3), padding='valid', activation='relu'))\n",
        "model.add(BatchNormalization())\n",
        "model.add(MaxPooling2D(pool_size=(2,2), strides=2, padding='valid'))\n",
        "\n",
        "model.add(Conv2D(128, kernel_size=(3,3), padding='valid', activation='relu'))\n",
        "model.add(BatchNormalization())\n",
        "model.add(MaxPooling2D(pool_size=(2,2), strides=2, padding='valid'))\n",
        "\n",
        "model.add(Flatten())\n",
        "\n",
        "model.add(Dense(128, activation='relu'))\n",
        "model.add(Dropout(0.1))\n",
        "model.add(Dense(64, activation='relu'))\n",
        "model.add(Dropout(0.1))\n",
        "model.add(Dense(1, activation='sigmoid'))"
      ],
      "metadata": {
        "id": "7J3NFvaMFdrX"
      },
      "execution_count": null,
      "outputs": []
    },
    {
      "cell_type": "code",
      "source": [
        "model.compile(optimizer='adam', loss='binary_crossentropy', metrics=['accuracy'])"
      ],
      "metadata": {
        "id": "ZVncqHPgTDzX"
      },
      "execution_count": null,
      "outputs": []
    },
    {
      "cell_type": "code",
      "source": [
        "history_2 = model.fit(train_ds, epochs=10, validation_data=validation_ds)"
      ],
      "metadata": {
        "colab": {
          "base_uri": "https://localhost:8080/"
        },
        "id": "YfXmiKzlTDwE",
        "outputId": "4a2b9482-a195-4bf1-93ef-bd9e9eda004b"
      },
      "execution_count": null,
      "outputs": [
        {
          "output_type": "stream",
          "name": "stdout",
          "text": [
            "Epoch 1/10\n",
            "625/625 [==============================] - 79s 109ms/step - loss: 1.2815 - accuracy: 0.5688 - val_loss: 0.6347 - val_accuracy: 0.6374\n",
            "Epoch 2/10\n",
            "625/625 [==============================] - 68s 107ms/step - loss: 0.6345 - accuracy: 0.6384 - val_loss: 0.6390 - val_accuracy: 0.6434\n",
            "Epoch 3/10\n",
            "625/625 [==============================] - 65s 104ms/step - loss: 0.6313 - accuracy: 0.6690 - val_loss: 0.8174 - val_accuracy: 0.5834\n",
            "Epoch 4/10\n",
            "625/625 [==============================] - 66s 104ms/step - loss: 0.5884 - accuracy: 0.6867 - val_loss: 0.6090 - val_accuracy: 0.6888\n",
            "Epoch 5/10\n",
            "625/625 [==============================] - 80s 127ms/step - loss: 0.5610 - accuracy: 0.7143 - val_loss: 0.5565 - val_accuracy: 0.7116\n",
            "Epoch 6/10\n",
            "625/625 [==============================] - 77s 121ms/step - loss: 0.5470 - accuracy: 0.7273 - val_loss: 0.5715 - val_accuracy: 0.7162\n",
            "Epoch 7/10\n",
            "625/625 [==============================] - 68s 107ms/step - loss: 0.5366 - accuracy: 0.7358 - val_loss: 0.5530 - val_accuracy: 0.7258\n",
            "Epoch 8/10\n",
            "625/625 [==============================] - 68s 109ms/step - loss: 0.5100 - accuracy: 0.7548 - val_loss: 0.5463 - val_accuracy: 0.7232\n",
            "Epoch 9/10\n",
            "625/625 [==============================] - 65s 103ms/step - loss: 0.4982 - accuracy: 0.7651 - val_loss: 0.6597 - val_accuracy: 0.6658\n",
            "Epoch 10/10\n",
            "625/625 [==============================] - 65s 104ms/step - loss: 0.4910 - accuracy: 0.7704 - val_loss: 0.5009 - val_accuracy: 0.7702\n"
          ]
        }
      ]
    },
    {
      "cell_type": "code",
      "source": [
        "plt.plot(history_2.history['accuracy'],color='red', label='Train')\n",
        "plt.plot(history_2.history['val_accuracy'],color='blue', label='Validation')\n",
        "plt.legend()\n",
        "plt.show()"
      ],
      "metadata": {
        "id": "gE-HT9U5TDne",
        "colab": {
          "base_uri": "https://localhost:8080/",
          "height": 193
        },
        "outputId": "a00e8829-18cb-405b-ad52-6ce784bc0eac"
      },
      "execution_count": null,
      "outputs": [
        {
          "output_type": "error",
          "ename": "NameError",
          "evalue": "name 'history_2' is not defined",
          "traceback": [
            "\u001b[0;31m---------------------------------------------------------------------------\u001b[0m",
            "\u001b[0;31mNameError\u001b[0m                                 Traceback (most recent call last)",
            "\u001b[0;32m<ipython-input-20-b0dd6615d6e3>\u001b[0m in \u001b[0;36m<cell line: 1>\u001b[0;34m()\u001b[0m\n\u001b[0;32m----> 1\u001b[0;31m \u001b[0mplt\u001b[0m\u001b[0;34m.\u001b[0m\u001b[0mplot\u001b[0m\u001b[0;34m(\u001b[0m\u001b[0mhistory_2\u001b[0m\u001b[0;34m.\u001b[0m\u001b[0mhistory\u001b[0m\u001b[0;34m[\u001b[0m\u001b[0;34m'accuracy'\u001b[0m\u001b[0;34m]\u001b[0m\u001b[0;34m,\u001b[0m\u001b[0mcolor\u001b[0m\u001b[0;34m=\u001b[0m\u001b[0;34m'red'\u001b[0m\u001b[0;34m,\u001b[0m \u001b[0mlabel\u001b[0m\u001b[0;34m=\u001b[0m\u001b[0;34m'Train'\u001b[0m\u001b[0;34m)\u001b[0m\u001b[0;34m\u001b[0m\u001b[0;34m\u001b[0m\u001b[0m\n\u001b[0m\u001b[1;32m      2\u001b[0m \u001b[0mplt\u001b[0m\u001b[0;34m.\u001b[0m\u001b[0mplot\u001b[0m\u001b[0;34m(\u001b[0m\u001b[0mhistory_2\u001b[0m\u001b[0;34m.\u001b[0m\u001b[0mhistory\u001b[0m\u001b[0;34m[\u001b[0m\u001b[0;34m'val_accuracy'\u001b[0m\u001b[0;34m]\u001b[0m\u001b[0;34m,\u001b[0m\u001b[0mcolor\u001b[0m\u001b[0;34m=\u001b[0m\u001b[0;34m'blue'\u001b[0m\u001b[0;34m,\u001b[0m \u001b[0mlabel\u001b[0m\u001b[0;34m=\u001b[0m\u001b[0;34m'Validation'\u001b[0m\u001b[0;34m)\u001b[0m\u001b[0;34m\u001b[0m\u001b[0;34m\u001b[0m\u001b[0m\n\u001b[1;32m      3\u001b[0m \u001b[0mplt\u001b[0m\u001b[0;34m.\u001b[0m\u001b[0mlegend\u001b[0m\u001b[0;34m(\u001b[0m\u001b[0;34m)\u001b[0m\u001b[0;34m\u001b[0m\u001b[0;34m\u001b[0m\u001b[0m\n\u001b[1;32m      4\u001b[0m \u001b[0mplt\u001b[0m\u001b[0;34m.\u001b[0m\u001b[0mshow\u001b[0m\u001b[0;34m(\u001b[0m\u001b[0;34m)\u001b[0m\u001b[0;34m\u001b[0m\u001b[0;34m\u001b[0m\u001b[0m\n",
            "\u001b[0;31mNameError\u001b[0m: name 'history_2' is not defined"
          ]
        }
      ]
    },
    {
      "cell_type": "markdown",
      "source": [
        "- Much better as compared to previous\n",
        "- Let's test our model"
      ],
      "metadata": {
        "id": "xuTNm_vaWkpl"
      }
    },
    {
      "cell_type": "code",
      "source": [
        "import cv2"
      ],
      "metadata": {
        "id": "zNYTfWXRTWfn"
      },
      "execution_count": null,
      "outputs": []
    },
    {
      "cell_type": "code",
      "source": [
        "test_img = cv2.imread('/content/dog.jpg')"
      ],
      "metadata": {
        "id": "Eyv80dHjX-Z5"
      },
      "execution_count": null,
      "outputs": []
    },
    {
      "cell_type": "code",
      "source": [
        "test_img"
      ],
      "metadata": {
        "colab": {
          "base_uri": "https://localhost:8080/",
          "height": 297
        },
        "id": "jGGDXgnbhH1z",
        "outputId": "54ffea26-2157-4dac-bdee-c0fcd4be5fee"
      },
      "execution_count": null,
      "outputs": [
        {
          "output_type": "execute_result",
          "data": {
            "text/plain": [
              "array([[[6, 4, 4],\n",
              "        [6, 4, 4],\n",
              "        [6, 4, 4],\n",
              "        ...,\n",
              "        [6, 4, 4],\n",
              "        [6, 4, 4],\n",
              "        [6, 4, 4]],\n",
              "\n",
              "       [[6, 4, 4],\n",
              "        [6, 4, 4],\n",
              "        [6, 4, 4],\n",
              "        ...,\n",
              "        [6, 4, 4],\n",
              "        [6, 4, 4],\n",
              "        [6, 4, 4]],\n",
              "\n",
              "       [[6, 4, 4],\n",
              "        [6, 4, 4],\n",
              "        [6, 4, 4],\n",
              "        ...,\n",
              "        [6, 4, 4],\n",
              "        [6, 4, 4],\n",
              "        [6, 4, 4]],\n",
              "\n",
              "       ...,\n",
              "\n",
              "       [[6, 3, 5],\n",
              "        [6, 3, 5],\n",
              "        [6, 3, 5],\n",
              "        ...,\n",
              "        [6, 4, 4],\n",
              "        [6, 3, 5],\n",
              "        [6, 3, 5]],\n",
              "\n",
              "       [[6, 3, 5],\n",
              "        [6, 3, 5],\n",
              "        [6, 3, 5],\n",
              "        ...,\n",
              "        [6, 4, 4],\n",
              "        [6, 3, 5],\n",
              "        [6, 3, 5]],\n",
              "\n",
              "       [[6, 3, 5],\n",
              "        [6, 3, 5],\n",
              "        [6, 3, 5],\n",
              "        ...,\n",
              "        [6, 4, 4],\n",
              "        [6, 3, 5],\n",
              "        [6, 3, 5]]], dtype=uint8)"
            ],
            "text/html": [
              "<style>\n",
              "      .ndarray_repr .ndarray_raw_data {\n",
              "        display: none;\n",
              "      }\n",
              "      .ndarray_repr.show_array .ndarray_raw_data {\n",
              "        display: block;\n",
              "      }\n",
              "      .ndarray_repr.show_array .ndarray_image_preview {\n",
              "        display: none;\n",
              "      }\n",
              "      </style>\n",
              "      <div id=\"id-7b23bebd-dd17-43c8-8db4-dd03c13d69b1\" class=\"ndarray_repr\"><pre>ndarray (256, 256, 3) <button style=\"padding: 0 2px;\">show data</button></pre><img src=\"data:image/png;base64,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\" class=\"ndarray_image_preview\" /><pre class=\"ndarray_raw_data\">array([[[6, 4, 4],\n",
              "        [6, 4, 4],\n",
              "        [6, 4, 4],\n",
              "        ...,\n",
              "        [6, 4, 4],\n",
              "        [6, 4, 4],\n",
              "        [6, 4, 4]],\n",
              "\n",
              "       [[6, 4, 4],\n",
              "        [6, 4, 4],\n",
              "        [6, 4, 4],\n",
              "        ...,\n",
              "        [6, 4, 4],\n",
              "        [6, 4, 4],\n",
              "        [6, 4, 4]],\n",
              "\n",
              "       [[6, 4, 4],\n",
              "        [6, 4, 4],\n",
              "        [6, 4, 4],\n",
              "        ...,\n",
              "        [6, 4, 4],\n",
              "        [6, 4, 4],\n",
              "        [6, 4, 4]],\n",
              "\n",
              "       ...,\n",
              "\n",
              "       [[6, 3, 5],\n",
              "        [6, 3, 5],\n",
              "        [6, 3, 5],\n",
              "        ...,\n",
              "        [6, 4, 4],\n",
              "        [6, 3, 5],\n",
              "        [6, 3, 5]],\n",
              "\n",
              "       [[6, 3, 5],\n",
              "        [6, 3, 5],\n",
              "        [6, 3, 5],\n",
              "        ...,\n",
              "        [6, 4, 4],\n",
              "        [6, 3, 5],\n",
              "        [6, 3, 5]],\n",
              "\n",
              "       [[6, 3, 5],\n",
              "        [6, 3, 5],\n",
              "        [6, 3, 5],\n",
              "        ...,\n",
              "        [6, 4, 4],\n",
              "        [6, 3, 5],\n",
              "        [6, 3, 5]]], dtype=uint8)</pre></div><script>\n",
              "      (() => {\n",
              "      const titles = ['show data', 'hide data'];\n",
              "      let index = 0\n",
              "      document.querySelector('#id-7b23bebd-dd17-43c8-8db4-dd03c13d69b1 button').onclick = (e) => {\n",
              "        document.querySelector('#id-7b23bebd-dd17-43c8-8db4-dd03c13d69b1').classList.toggle('show_array');\n",
              "        index = (++index) % 2;\n",
              "        document.querySelector('#id-7b23bebd-dd17-43c8-8db4-dd03c13d69b1 button').textContent = titles[index];\n",
              "        e.preventDefault();\n",
              "        e.stopPropagation();\n",
              "      }\n",
              "      })();\n",
              "    </script>"
            ]
          },
          "metadata": {},
          "execution_count": 40
        }
      ]
    },
    {
      "cell_type": "code",
      "source": [
        "test_img.shape"
      ],
      "metadata": {
        "colab": {
          "base_uri": "https://localhost:8080/"
        },
        "id": "o-zpzSIuYHy5",
        "outputId": "21199ddc-2298-4b2a-d153-486d8b66fde3"
      },
      "execution_count": null,
      "outputs": [
        {
          "output_type": "execute_result",
          "data": {
            "text/plain": [
              "(360, 540, 3)"
            ]
          },
          "metadata": {},
          "execution_count": 35
        }
      ]
    },
    {
      "cell_type": "code",
      "source": [
        "test_img = cv2.resize(test_img, (256,256))"
      ],
      "metadata": {
        "id": "Yij1wqO_aLSK"
      },
      "execution_count": null,
      "outputs": []
    },
    {
      "cell_type": "code",
      "source": [
        "test_input = test_img.reshape((1,256,256,3))"
      ],
      "metadata": {
        "id": "yYjLU5graQJt"
      },
      "execution_count": null,
      "outputs": []
    },
    {
      "cell_type": "code",
      "source": [
        "model.predict(test_input)"
      ],
      "metadata": {
        "colab": {
          "base_uri": "https://localhost:8080/"
        },
        "id": "LC2Dyw-HaVrs",
        "outputId": "03f136a6-533a-47db-e714-5d690b870403"
      },
      "execution_count": null,
      "outputs": [
        {
          "output_type": "stream",
          "name": "stdout",
          "text": [
            "1/1 [==============================] - 0s 409ms/step\n"
          ]
        },
        {
          "output_type": "execute_result",
          "data": {
            "text/plain": [
              "array([[1.]], dtype=float32)"
            ]
          },
          "metadata": {},
          "execution_count": 38
        }
      ]
    },
    {
      "cell_type": "markdown",
      "source": [
        "- Cat label is 0\n",
        "- Dog label is 1"
      ],
      "metadata": {
        "id": "7qsm7kjBhOyx"
      }
    },
    {
      "cell_type": "code",
      "source": [],
      "metadata": {
        "id": "vavg7q-AaYN9"
      },
      "execution_count": null,
      "outputs": []
    }
  ]
}